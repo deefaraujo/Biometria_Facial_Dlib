{
  "nbformat": 4,
  "nbformat_minor": 0,
  "metadata": {
    "colab": {
      "name": "Avd2_Biometria_Facial_Deborah.ipynb",
      "provenance": [],
      "collapsed_sections": []
    },
    "kernelspec": {
      "name": "python3",
      "display_name": "Python 3"
    },
    "language_info": {
      "name": "python"
    }
  },
  "cells": [
    {
      "cell_type": "markdown",
      "metadata": {
        "id": "Rt06A94XmIqS"
      },
      "source": [
        "**AVD 2 DE TOPICOS ESPECIAIS I**\n",
        "\n",
        "BIOMETRIA FACIAL 😀"
      ]
    },
    {
      "cell_type": "code",
      "metadata": {
        "id": "W0d2GOsRmPyk"
      },
      "source": [
        "#Importando as DEPENDÊNCIAS \n",
        "\n",
        "from PIL import Image\n",
        "import cv2 \n",
        "import numpy as np\n",
        "from google.colab.patches import cv2_imshow\n",
        "\n",
        "#Importando a biblioteca dlib\n",
        "import dlib"
      ],
      "execution_count": null,
      "outputs": []
    },
    {
      "cell_type": "code",
      "metadata": {
        "id": "ojRMiKDunWHD"
      },
      "source": [
        "# REQUISITO DA PROVA:\n",
        "# 1) Desenvolva um código que lhe permita abrir uma imagem RGB ou BGR de sua preferência, utilizando a interface python do OpenCV.\n",
        "\n",
        "# 2) Utilizando o código fonte das nossas aulas como base, carregue uma imagem contendo pelo menos duas faces, \n",
        "#    depois carregue o modelo de detecção de faces utilizado nas nossa aula sobre a dlib. \n",
        "\n",
        "# 3) Construa um código de detecção de faces, encontre a caixa envolvente da face na imagem. \n",
        "#    Depois de encontrada cada face, encontre os marcos faciais de cada uma das faces.\n",
        "\n",
        "# 4) Pinte o retângulo ao redor da(s) face(s) encontrada(s) e cada um dos marcos faciais encontrads. \n",
        "#    Exiba a imagem pintada na tela. Documente as funções utilizadas no código."
      ],
      "execution_count": null,
      "outputs": []
    },
    {
      "cell_type": "code",
      "metadata": {
        "id": "meNwZIWHnuiB"
      },
      "source": [
        "#Lendo uma imagem RGB ou BGR\n",
        "imagem_face = cv2.imread('/content/faces.jpg')\n",
        "\n",
        "#Carregando o modelo de detecção de faces\n",
        "detector_facial = dlib.get_frontal_face_detector()\n",
        "\n",
        "deteccoes_face = detector_facial(imagem_face, 1)\n",
        "\n",
        "#Desenhando os retangulos (caixa envolvente)\n",
        "for face in deteccoes_face:\n",
        "  l, t, r, b = face.left(), face.top(), face.right(), face.bottom()\n",
        "  cv2.rectangle(imagem_face, (l, t), (r, b), (0,255,255), 2)\n",
        "\n",
        "#Mostrando a imagem com os retangulos\n",
        "cv2_imshow(imagem_face)\n"
      ],
      "execution_count": null,
      "outputs": []
    },
    {
      "cell_type": "code",
      "metadata": {
        "id": "8Ay3TBGZsOuF"
      },
      "source": [
        "#Carregar o detector de marcos faciais da dlib: \n",
        "detector_pontos_faciais = dlib.shape_predictor('/content/shape_predictor_68_face_landmarks.dat')\n",
        "\n",
        "#Encontrando os marcos faciais de cada uma das faces\n",
        "for face in deteccoes_face:\n",
        "  pontos_face = detector_pontos_faciais(imagem_face, face)\n",
        "\n",
        "  #Desenhando os marcos faciais na imagem\n",
        "  for ponto in pontos_face.parts():\n",
        "    cv2.circle(imagem_face, (ponto.x, ponto.y), 2, (0,255,0), 1)\n",
        "\n",
        "  #Desenhando os retangulos na imagem (caixa envolvente)\n",
        "  l, t, r, b = face.left(), face.top(), face.right(), face.bottom()\n",
        "  cv2.rectangle(imagem_face, (l, t), (r, b), (0,255,255), 2)\n",
        "\n",
        "#Mostrando a imagem\n",
        "cv2_imshow(imagem_face)\n"
      ],
      "execution_count": null,
      "outputs": []
    }
  ]
}